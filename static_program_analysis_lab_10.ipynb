{
 "cells": [
  {
   "cell_type": "markdown",
   "source": [
    "# &#128214; Lab 10: Type System Analysis"
   ],
   "metadata": {
    "collapsed": false
   },
   "id": "8f81f5e18c77807e"
  },
  {
   "cell_type": "markdown",
   "source": [
    "## &#127919; Objective\n",
    "\n",
    "Develop an understanding of type systems and their importance in static code analysis. Implement an analyzer to examine Python code for type consistency and potential type-related issues.\n",
    "\n",
    "## &#128214; Background\n",
    "\n",
    "Type systems play an important role in static analysis, providing information about the data types used in programs. This knowledge can help detect type inconsistencies and potential bugs early in the development process.\n",
    "\n",
    "### Why Type Systems Help Detect Bugs\n",
    "\n",
    "1. **Early Error Detection:** Type systems enforce rules about how variables and functions are used according to their data types. By checking these rules during compilation or static analysis, many errors can be caught early before the code is run.\n",
    "\n",
    "2. **Avoiding Type Mismatches:** Type systems prevent operations that are nonsensical or unsafe due to type incompatibility (like adding a string to an integer). This avoids runtime errors and ensures that operations make sense in terms of the data involved.\n",
    "\n",
    "### Equivalence of Type Systems to Data Flow Analyses\n",
    "\n",
    "Type systems and data flow analyses, although conceptually different, share a fundamental similarity: they both track information as it moves through a program.\n",
    "\n",
    "1. **Tracking Data Flow:** Both systems track how data moves and transforms within a program. Data flow analysis focuses on the flow of data facts, while type systems concentrate on the flow of data types.\n",
    "\n",
    "2. **Ensuring Correctness:** Just as data flow analysis aims to ensure the correct use of data (like avoiding uninitialized variables), type systems ensure the correct use of data types. Both methodologies aim to enforce certain correctness properties in a program.\n",
    "\n",
    "## &#10145; Tasks\n",
    "\n",
    "### Task 1: Implementing a Basic Type Analyzer\n",
    "\n",
    "In this exercise, you will create a Python script that can analyze Python code for type-related information. Your task is to identify variables, functions, and their associated types, and implement functionality to detect type inconsistencies or mismatches.\n",
    "\n",
    "**Build a Type Analyzer for Python Code:**\n",
    "   - Create a Python script that can analyze Python code for type-related information.\n",
    "   - The analyzer should identify variables, functions, and their associated types.\n",
    "   - Implement functionality to detect type inconsistencies or mismatches."
   ],
   "metadata": {
    "collapsed": false
   },
   "id": "fb1c1a933e14cad1"
  },
  {
   "cell_type": "markdown",
   "source": [
    "### Import the necessary library\n",
    "\n",
    "&#128161; *In the following cell, we will import the library needed for this exercise:*\n",
    "- `ast`: a module of the python standard library to transform Python code in its AST representation"
   ],
   "metadata": {
    "collapsed": false
   },
   "id": "b4e018560f21d5b6"
  },
  {
   "cell_type": "code",
   "execution_count": null,
   "outputs": [],
   "source": [
    "import ast"
   ],
   "metadata": {
    "collapsed": false
   },
   "id": "fa1ba0de2901faa0"
  },
  {
   "cell_type": "markdown",
   "source": [
    "Python code\n",
    "\n",
    "&#128161; The following cell contains a string that represents the Python code that will be analyzed through this exercise"
   ],
   "metadata": {
    "collapsed": false
   },
   "id": "4c5d285e0d765700"
  },
  {
   "cell_type": "code",
   "execution_count": null,
   "outputs": [],
   "source": [
    "code = \"\"\"\n",
    "x = 5\n",
    "y = 'hello'\n",
    "x = y      # This should raise a flag since x is an \"int\" and y a \"str\"\n",
    "b = x + y  # This should raise a flag since x is an \"int\" and y a \"str\"\n",
    "\"\"\""
   ],
   "metadata": {
    "collapsed": false
   },
   "id": "66df34b9fe5385b4"
  },
  {
   "cell_type": "markdown",
   "source": [
    "&#128161; Now, you will create a class `TypeAnalyzer` that extends `ast.NodeVisitor`. This class will visit each node in the AST and perform type analysis.\n",
    "Implement a method `infer_type` in your `TypeAnalyzer` class to determine the type of a given node. Start with simple types like integers and strings.\n",
    "Next, implement the `visit_Assign` method to handle variable assignments. This method should update the variable types and check for type inconsistencies."
   ],
   "metadata": {
    "collapsed": false
   },
   "id": "21fc66763d84bcaa"
  },
  {
   "cell_type": "code",
   "execution_count": null,
   "outputs": [],
   "source": [
    "class TypeAnalyzer(ast.NodeVisitor):\n",
    "    def __init__(self):\n",
    "\n",
    "    def infer_type(self, node):\n",
    "\n",
    "    def visit_BinOp(self, node):\n",
    "\n",
    "    def visit_Assign(self, node):"
   ],
   "metadata": {
    "collapsed": false
   },
   "id": "cf61b524eb02e61c"
  },
  {
   "cell_type": "markdown",
   "source": [
    "&#128161; Finally, test your analyzer with some sample Python code. Look for variables, their types, and any inconsistencies."
   ],
   "metadata": {
    "collapsed": false
   },
   "id": "ff105ff97a654c91"
  },
  {
   "cell_type": "code",
   "execution_count": null,
   "outputs": [],
   "source": [],
   "metadata": {
    "collapsed": false
   },
   "id": "928159056308e6d1"
  },
  {
   "cell_type": "markdown",
   "source": [
    "&#10067; Did your analyzer detect the types inconsistencies?"
   ],
   "metadata": {
    "collapsed": false
   },
   "id": "895bda7a3edb3b6d"
  },
  {
   "cell_type": "markdown",
   "source": [
    "&#128161; Ok, now you will write another class called `NoneDetector`, this class is supposed to detect potential variables that hold `None` values. You can use a custom type, such as a String called \"None\" to detect that. "
   ],
   "metadata": {
    "collapsed": false
   },
   "id": "cc19817611fce871"
  },
  {
   "cell_type": "markdown",
   "source": [
    "&#128161; You will analyze the code in the following cell"
   ],
   "metadata": {
    "collapsed": false
   },
   "id": "f9e07e6a28c641a0"
  },
  {
   "cell_type": "code",
   "execution_count": null,
   "outputs": [],
   "source": [
    "code = \"\"\"\n",
    "a = None\n",
    "do_something(a)\n",
    "\"\"\""
   ],
   "metadata": {
    "collapsed": false
   },
   "id": "b4755c5c560cd6e6"
  },
  {
   "cell_type": "markdown",
   "source": [
    "&#128161; In the following cell, implement the `NoneDetector` class."
   ],
   "metadata": {
    "collapsed": false
   },
   "id": "a8cd2c60f44ec49a"
  },
  {
   "cell_type": "code",
   "execution_count": null,
   "outputs": [],
   "source": [
    "class NoneDetector(ast.NodeVisitor):"
   ],
   "metadata": {
    "collapsed": false
   },
   "id": "190039aef0dc96e"
  },
  {
   "cell_type": "markdown",
   "source": [
    "&#128161; Test your code:"
   ],
   "metadata": {
    "collapsed": false
   },
   "id": "d41c1539960f4be0"
  },
  {
   "cell_type": "code",
   "execution_count": null,
   "outputs": [],
   "source": [],
   "metadata": {
    "collapsed": false
   },
   "id": "417ec65a9d077ce2"
  },
  {
   "cell_type": "markdown",
   "source": [
    "Good !\n",
    "\n",
    "&#128161; But now, analyze this code"
   ],
   "metadata": {
    "collapsed": false
   },
   "id": "943b82e7d138d92f"
  },
  {
   "cell_type": "code",
   "execution_count": null,
   "outputs": [],
   "source": [
    "code = \"\"\"\n",
    "a = None\n",
    "a = 1\n",
    "do_something(a)\n",
    "\"\"\""
   ],
   "metadata": {
    "collapsed": false
   },
   "id": "9452208ff24273ee"
  },
  {
   "cell_type": "code",
   "execution_count": null,
   "outputs": [],
   "source": [],
   "metadata": {
    "collapsed": false
   },
   "id": "72a8689e46e5070c"
  },
  {
   "cell_type": "markdown",
   "source": [
    "In the previous example, a is not None anymore, was your code good to detect that? \n",
    "\n",
    "If yes, good !\n",
    "\n",
    "Otherwise update the `NoneDetector` class in the following cell "
   ],
   "metadata": {
    "collapsed": false
   },
   "id": "67617b6ff3814947"
  },
  {
   "cell_type": "code",
   "execution_count": null,
   "outputs": [],
   "source": [
    "class NoneDetector(ast.NodeVisitor):"
   ],
   "metadata": {
    "collapsed": false
   },
   "id": "7db18bd7659ade47"
  },
  {
   "cell_type": "code",
   "execution_count": null,
   "outputs": [],
   "source": [],
   "metadata": {
    "collapsed": false
   },
   "id": "2e375470eb60cadd"
  },
  {
   "cell_type": "markdown",
   "source": [
    "Perfect, now your code can update the value of `a` to `int`.\n",
    "Now analyze the following piece of code"
   ],
   "metadata": {
    "collapsed": false
   },
   "id": "bbe2e995366daa18"
  },
  {
   "cell_type": "code",
   "execution_count": null,
   "outputs": [],
   "source": [
    "code = \"\"\"\n",
    "a = None\n",
    "a = 1\n",
    "a = None\n",
    "do_something(a)\n",
    "\"\"\""
   ],
   "metadata": {
    "collapsed": false
   },
   "id": "df77e09ad80151c2"
  },
  {
   "cell_type": "code",
   "execution_count": null,
   "outputs": [],
   "source": [],
   "metadata": {
    "collapsed": false
   },
   "id": "bfa7fa4032f095a"
  },
  {
   "cell_type": "markdown",
   "source": [
    "Normally, if you implemented everything correctly, your code should work, no changes needed.\n",
    "But what about this code"
   ],
   "metadata": {
    "collapsed": false
   },
   "id": "10cb29018b1c0dfa"
  },
  {
   "cell_type": "code",
   "execution_count": null,
   "outputs": [],
   "source": [
    "code = \"\"\"\n",
    "a = None\n",
    "a = 1\n",
    "do_something(b)\n",
    "\"\"\""
   ],
   "metadata": {
    "collapsed": false
   },
   "id": "53912680abd5d34a"
  },
  {
   "cell_type": "code",
   "execution_count": null,
   "outputs": [],
   "source": [],
   "metadata": {
    "collapsed": false
   },
   "id": "232a328c787a85f6"
  },
  {
   "cell_type": "markdown",
   "source": [
    "Does it yield an error?\n",
    "If yes, it means you correctly handled variables that never received a value.\n",
    "If no, you need to implement that behavior, do it in the following cell"
   ],
   "metadata": {
    "collapsed": false
   },
   "id": "f6a9e23a6190b735"
  },
  {
   "cell_type": "code",
   "execution_count": null,
   "outputs": [],
   "source": [
    "class NoneDetector(ast.NodeVisitor):"
   ],
   "metadata": {
    "collapsed": false
   },
   "id": "f41f6d15de69ba3b"
  },
  {
   "cell_type": "code",
   "execution_count": null,
   "outputs": [],
   "source": [],
   "metadata": {
    "collapsed": false
   },
   "id": "ad93b6ebae792bfe"
  },
  {
   "cell_type": "markdown",
   "source": [
    "&#128161; Nice! now your code is able to detect some cases where variables might be `None`."
   ],
   "metadata": {
    "collapsed": false
   },
   "id": "c7ffeb2be9139eb6"
  },
  {
   "cell_type": "markdown",
   "source": [
    "### Broadening the Concept of 'Type'\n",
    "\n",
    "Traditionally, 'types' refer to categories like integers or strings. However, in advanced type systems:\n",
    "\n",
    "- A 'type' can represent **varied properties or facts** about data.\n",
    "- For example, a 'type' might indicate whether a variable contains sanitized input, extending beyond basic data types.\n",
    "\n",
    "### Dataflow Facts as Types\n",
    "\n",
    "- Dataflow analysis tracks the movement and transformation of data in a program.\n",
    "- **Encoding dataflow facts as types** merges dataflow analysis with type systems.\n",
    "- Example: In taint analysis, 'tainted' or 'untainted' can be considered types, integrating the concept of dataflow within the type system.\n",
    "\n",
    "### Equivalence in Concept\n",
    "\n",
    "- This extended view shows that **types in a type system can be equivalent to dataflow facts**.\n",
    "- Both represent data properties and can be used to analyze program behavior."
   ],
   "metadata": {
    "collapsed": false
   },
   "id": "ce98c6f431217a2c"
  },
  {
   "cell_type": "markdown",
   "source": [
    "&#128161; Now, I would like you to write the `SQLInjectionDetector` class to detected data that are tainted in a program to detect SQL injections.\n",
    "It means any data coming from user input, let's say from `input` or `read` functions, should be tainted.\n",
    "Then, you should check if a tainted value flows into a function to perform an SQL query."
   ],
   "metadata": {
    "collapsed": false
   },
   "id": "646e49f331425a34"
  },
  {
   "cell_type": "markdown",
   "source": [
    "&#128161; You will analyze the following code"
   ],
   "metadata": {
    "collapsed": false
   },
   "id": "37ea34c3639dbf94"
  },
  {
   "cell_type": "code",
   "execution_count": null,
   "outputs": [],
   "source": [
    "code = \"\"\"\n",
    "import sqlite3\n",
    "\n",
    "user_input = input(\"Enter data: \")\n",
    "print(f\"The user has given the following input: {user_input}\")\n",
    "\n",
    "do_something()\n",
    "\n",
    "query = \"SELECT * FROM users WHERE username = \" + user_input\n",
    "\n",
    "conn = sqlite3.connect(\"mydb.db\")\n",
    "cursor = conn.cursor()\n",
    "cursor.execute(query)\n",
    "\"\"\""
   ],
   "metadata": {
    "collapsed": false
   },
   "id": "f768124e34e3b770"
  },
  {
   "cell_type": "code",
   "execution_count": null,
   "outputs": [],
   "source": [
    "class SQLInjectionDetector(ast.NodeVisitor):"
   ],
   "metadata": {
    "collapsed": false
   },
   "id": "fbb0f8b651c1a811"
  },
  {
   "cell_type": "markdown",
   "source": [
    "&#128161; Test your code"
   ],
   "metadata": {
    "collapsed": false
   },
   "id": "d697df14e01a42e4"
  },
  {
   "cell_type": "code",
   "execution_count": null,
   "outputs": [],
   "source": [],
   "metadata": {
    "collapsed": false
   },
   "id": "11941cf962cc628a"
  },
  {
   "cell_type": "markdown",
   "source": [
    "&#128161; Congratulations! You can now detect SQL injections with type systems"
   ],
   "metadata": {
    "collapsed": false
   },
   "id": "b65285a53d66fe19"
  },
  {
   "cell_type": "markdown",
   "source": [
    "### &#10067; Questions"
   ],
   "metadata": {
    "collapsed": false
   },
   "id": "946ef58b92056101"
  },
  {
   "cell_type": "markdown",
   "source": [
    "Can you explain how a type in a type system can represent a dataflow fact? \n",
    "\n",
    "In the exercise where you developed a script to detect type mismatches and conversion errors, how did the type system help identify potential issues? Give an example of a code snippet that would raise a type mismatch error and explain why.\n",
    "\n",
    "Describe how buffer overflow vulnerabilities can occur in programming. How might a type system be used to prevent such vulnerabilities, based on what you've learned in this lab?\n",
    "\n",
    "Why is it important to detect potential NoneType errors in Python? Using the NoneType detector you built, explain how the script identifies these errors and suggest a way to handle them to prevent runtime exceptions.\n",
    "\n",
    "What are some of the challenges you might face when implementing type inference in a dynamic language like Python, as seen in our type mismatch detection exercise? How does dynamic typing complicate type inference?\n",
    "\n",
    "Gather some information about type annotations on the Internet and explain why they are important and how they could contribute to improve type systems."
   ],
   "metadata": {
    "collapsed": false
   },
   "id": "14d15768dcd666bd"
  }
 ],
 "metadata": {
  "kernelspec": {
   "display_name": "Python 3",
   "language": "python",
   "name": "python3"
  },
  "language_info": {
   "codemirror_mode": {
    "name": "ipython",
    "version": 2
   },
   "file_extension": ".py",
   "mimetype": "text/x-python",
   "name": "python",
   "nbconvert_exporter": "python",
   "pygments_lexer": "ipython2",
   "version": "2.7.6"
  }
 },
 "nbformat": 4,
 "nbformat_minor": 5
}
